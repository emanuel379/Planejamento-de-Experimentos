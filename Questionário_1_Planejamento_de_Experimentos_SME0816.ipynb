{
  "nbformat": 4,
  "nbformat_minor": 0,
  "metadata": {
    "colab": {
      "provenance": [],
      "include_colab_link": true
    },
    "kernelspec": {
      "name": "python3",
      "display_name": "Python 3"
    },
    "language_info": {
      "name": "python"
    }
  },
  "cells": [
    {
      "cell_type": "markdown",
      "metadata": {
        "id": "view-in-github",
        "colab_type": "text"
      },
      "source": [
        "<a href=\"https://colab.research.google.com/github/emanuel379/Planejamento-de-Experimentos/blob/main/Question%C3%A1rio_1_Planejamento_de_Experimentos_SME0816.ipynb\" target=\"_parent\"><img src=\"https://colab.research.google.com/assets/colab-badge.svg\" alt=\"Open In Colab\"/></a>"
      ]
    },
    {
      "cell_type": "markdown",
      "source": [
        "Integrantes:\n",
        "\n",
        "Tayane Leandro Guerrero - 11838203\n",
        "\n",
        "Emanuel Victor da Silva Favorato - 12558151\n"
      ],
      "metadata": {
        "id": "eCF9yZiX5AxT"
      }
    },
    {
      "cell_type": "code",
      "source": [
        "# Bibliotecas utilizadas\n",
        "from scipy.stats import shapiro\n",
        "from scipy.stats import levene\n",
        "import numpy as np\n",
        "import matplotlib.pyplot as plt\n",
        "from scipy import stats\n",
        "import matplotlib.pyplot as plt\n",
        "from statsmodels.stats.power import TTestPower"
      ],
      "metadata": {
        "id": "76JanAHMos_r"
      },
      "execution_count": null,
      "outputs": []
    },
    {
      "cell_type": "markdown",
      "source": [
        "Questão 5 - Considere o problema do teste de dureza uma esfera de aço, que é pressionada contra a superfície de um bloco de material a uma carga padrão. (Aula 3, slide 31).\n",
        "\n",
        " Construa gráficos para o poder do teste, variando $alpha$, $n$ e $H_1$, um por vez, fixados os demais.\n",
        "\n",
        "Você deve apresentar um .pdf com códigos e resultados, utilizando a linguagem de programação de sua preferência."
      ],
      "metadata": {
        "id": "ciENnPcO5YhL"
      }
    },
    {
      "cell_type": "code",
      "execution_count": null,
      "metadata": {
        "id": "ojEj7aUOfnNP"
      },
      "outputs": [],
      "source": [
        "# Dados do exercício\n",
        "\n",
        "esferaA = [7.5, 4.6, 5.7, 4.3, 5.8, 3.2, 6.1, 5.6, 3.4, 6.5]\n",
        "esferaB = [5.2, 4.1, 4.3, 4.7, 3.2, 4.9, 5.2, 4.4, 5.7, 6.0]\n",
        "diferenca = [2.3,0.5,1.4,-0.4,2.6,-1.7,0.9, 1.2, -2.3,0.5]"
      ]
    },
    {
      "cell_type": "code",
      "source": [
        "# Verificando a normalidade para os dois conjuntos de dados\n",
        "statA, pA = shapiro(esferaA)\n",
        "statB, pB = shapiro(esferaB)\n",
        "\n",
        "# Observando os resultados\n",
        "print('Resultados do teste de Shapiro-Wilk:')\n",
        "print('Estatística de teste para a esfera A:', statA)\n",
        "print('Valor-p:', pA)\n",
        "print('Estatística de teste para a esfera B:', statB)\n",
        "print('Valor-p:', pB)\n",
        "\n",
        "# Interpretando os resultados dos testes\n",
        "alpha = 0.05\n",
        "if pA > alpha:\n",
        "    print('Os dados da esfera A parecem seguir uma distribuição normal (não podemos rejeitar H0)')\n",
        "else:\n",
        "    print('Os dados da esfera A parecem não seguir uma distribuição normal (rejeitamos H0)')\n",
        "\n",
        "if pB > alpha:\n",
        "    print('Os dados da esfera B parecem seguir uma distribuição normal (não podemos rejeitar H0)')\n",
        "else:\n",
        "    print('Os dados da esfera B parecem não seguir uma distribuição normal (rejeitamos H0)')"
      ],
      "metadata": {
        "colab": {
          "base_uri": "https://localhost:8080/"
        },
        "id": "kAN7jjpwoTGK",
        "outputId": "fcdb96a7-452d-47d9-fd2a-f7dc53e271d8"
      },
      "execution_count": null,
      "outputs": [
        {
          "output_type": "stream",
          "name": "stdout",
          "text": [
            "Resultados do teste de Shapiro-Wilk:\n",
            "Estatística de teste para a esfera A: 0.9569355249404907\n",
            "Valor-p: 0.7504458427429199\n",
            "Estatística de teste para a esfera B: 0.9790140390396118\n",
            "Valor-p: 0.9596737623214722\n",
            "Os dados da esfera A parecem seguir uma distribuição normal (não podemos rejeitar H0)\n",
            "Os dados da esfera B parecem seguir uma distribuição normal (não podemos rejeitar H0)\n"
          ]
        }
      ]
    },
    {
      "cell_type": "code",
      "source": [
        "# Teste de Levene para igualdade de variâncias\n",
        "stat_var, p_var = levene(esferaA, esferaB)\n",
        "\n",
        "# Observando os resultados\n",
        "print('Resultados do teste de Levene:')\n",
        "print('Estatística de teste:', stat_var)\n",
        "print('Valor-p =', p_var)\n",
        "\n",
        "# Interpretando os resultados dos testes\n",
        "alpha = 0.05\n",
        "if p_var > alpha:\n",
        "    print('As amostras aparentam ter a mesma variância (não podemos rejeitar H0)')\n",
        "else:\n",
        "    print('As amostras não aparentam ter a mesma variância (rejeitamos H0)')"
      ],
      "metadata": {
        "colab": {
          "base_uri": "https://localhost:8080/"
        },
        "id": "mj3r74AXpW4N",
        "outputId": "61750609-ab11-4f40-fce2-9c6a0f53a767"
      },
      "execution_count": null,
      "outputs": [
        {
          "output_type": "stream",
          "name": "stdout",
          "text": [
            "Resultados do teste de Levene:\n",
            "Estatística de teste: 1.685171425538689\n",
            "Valor-p = 0.21062662523567036\n",
            "As amostras aparentam ter a mesma variância (não podemos rejeitar H0)\n"
          ]
        }
      ]
    },
    {
      "cell_type": "markdown",
      "source": [
        "Logo, não podemos rejeitar as hipóteses de que os dados são normalmente distribuídos e de mesma variância."
      ],
      "metadata": {
        "id": "9CVD2IOOqlCO"
      }
    },
    {
      "cell_type": "markdown",
      "source": [
        "**Gráficos para o poder do teste**\n",
        "\n",
        "H0: µa - µb = 0.2 mm\n",
        "\n",
        "H1: µa - µb > 0.2 mm"
      ],
      "metadata": {
        "id": "iK0b2trzg2gS"
      }
    },
    {
      "cell_type": "code",
      "source": [
        "# Média da diferença\n",
        "mu_d = round(np.mean(diferenca), 2)\n",
        "\n",
        "# Desvio padrão da diferença\n",
        "sigma_d  = round(np.std(diferenca), 2)\n",
        "\n",
        "n = len(diferenca)"
      ],
      "metadata": {
        "id": "l2A7u_pFB2b_"
      },
      "execution_count": null,
      "outputs": []
    },
    {
      "cell_type": "markdown",
      "source": [
        "Variando o  $alpha$"
      ],
      "metadata": {
        "id": "W65utwCxA8wb"
      }
    },
    {
      "cell_type": "code",
      "source": [
        "# Valores de alpha para variar\n",
        "alphas = np.arange(0.01, 0.11, 0.01)\n",
        "\n",
        "# Inicializando o objeto TTestPower\n",
        "analise_poder = TTestPower()\n",
        "\n",
        "# Vetor para armazenar o poder do teste\n",
        "valores_poder = []\n",
        "\n",
        "# Calculando o poder do teste para cada valor de alpha\n",
        "for alpha in alphas:\n",
        "    poder = analise_poder.solve_power(effect_size=mu_d/sigma_d, nobs=n, alpha=alpha, alternative='larger')\n",
        "    valores_poder.append(poder)\n",
        "\n",
        "# Criando o gráfico\n",
        "plt.plot(alphas, valores_poder, marker='o')\n",
        "plt.xlabel('Alpha')\n",
        "plt.ylabel('Poder')\n",
        "plt.title('Poder vs. Alpha')\n",
        "plt.axhline(y=0.8, color='r', linestyle='--')  # Linha horizontal para indicar um poder de 0.8\n",
        "plt.show()"
      ],
      "metadata": {
        "colab": {
          "base_uri": "https://localhost:8080/",
          "height": 472
        },
        "id": "cTAcS-57sAwf",
        "outputId": "57f5ba09-86b8-4b5a-9759-d95326c787f7"
      },
      "execution_count": null,
      "outputs": [
        {
          "output_type": "display_data",
          "data": {
            "text/plain": [
              "<Figure size 640x480 with 1 Axes>"
            ],
            "image/png": "[encoded data removed]"
          },
          "metadata": {}
        }
      ]
    },
    {
      "cell_type": "markdown",
      "source": [
        "Variando o $n$"
      ],
      "metadata": {
        "id": "hXLBkJpKB_IB"
      }
    },
    {
      "cell_type": "code",
      "source": [
        "# Tamanhos de amostra para variar\n",
        "tamanhos_amostra = np.arange(5, 31, 5)\n",
        "\n",
        "# Inicializando o objeto TTestPower\n",
        "analise_poder = TTestPower()\n",
        "\n",
        "# Vetor para armazenar o poder do teste\n",
        "valores_poder = []\n",
        "\n",
        "# Calculando o poder do teste para cada valor de N\n",
        "for n in tamanhos_amostra:\n",
        "    poder = analise_poder.solve_power(effect_size=mu_d/sigma_d, nobs=n, alpha=alpha, alternative='larger')\n",
        "    valores_poder.append(poder)\n",
        "\n",
        "# Criando o gráfico\n",
        "plt.plot(tamanhos_amostra, valores_poder, marker='o')\n",
        "plt.xlabel('Tamanho da Amostra (n)')\n",
        "plt.ylabel('Poder')\n",
        "plt.title('Poder vs. Tamanho da Amostra')\n",
        "plt.axhline(y=0.8, color='r', linestyle='--')  # Linha horizontal para indicar um poder de 0.8\n",
        "plt.show()"
      ],
      "metadata": {
        "colab": {
          "base_uri": "https://localhost:8080/",
          "height": 472
        },
        "id": "UjxxCxmFCFwT",
        "outputId": "fee69d7b-6081-408a-9bfd-8f81c7c8d5b1"
      },
      "execution_count": null,
      "outputs": [
        {
          "output_type": "display_data",
          "data": {
            "text/plain": [
              "<Figure size 640x480 with 1 Axes>"
            ],
            "image/png": "[encoded data removed]"
          },
          "metadata": {}
        }
      ]
    },
    {
      "cell_type": "markdown",
      "source": [
        "Variando $H_1$"
      ],
      "metadata": {
        "id": "qs54PdPiD1VN"
      }
    },
    {
      "cell_type": "code",
      "source": [
        "# Tamanho da amostra fixo para H1\n",
        "n_fixo = 20\n",
        "\n",
        "# Valores de H1 (diferença média padronizada) para variar\n",
        "tamanhos_efeito = np.arange(0.2, 2.1, 0.2)\n",
        "\n",
        "# Inicialize o objeto TTestPower\n",
        "analise_poder = TTestPower()\n",
        "\n",
        "# Vetor para armazenar o poder do teste\n",
        "valores_poder = []\n",
        "\n",
        "# Calculando o poder do teste para cada valor de H1\n",
        "for tamanho_efeito in tamanhos_efeito:\n",
        "    poder = analise_poder.solve_power(effect_size=tamanho_efeito, nobs=n_fixo, alpha=alpha, alternative='larger')\n",
        "    valores_poder.append(poder)\n",
        "\n",
        "# Criando o gráfico\n",
        "plt.plot(tamanhos_efeito, valores_poder, marker='o')\n",
        "plt.xlabel('Tamanho do Efeito (H1)')\n",
        "plt.ylabel('Poder')\n",
        "plt.title('Poder vs. Tamanho do Efeito')\n",
        "plt.axhline(y=0.8, color='r', linestyle='--')  # Linha horizontal para indicar um poder de 0.8\n",
        "plt.show()"
      ],
      "metadata": {
        "colab": {
          "base_uri": "https://localhost:8080/",
          "height": 472
        },
        "id": "cotZ4NVWD1jf",
        "outputId": "3e926e06-5b2b-4654-f116-69b79325032c"
      },
      "execution_count": null,
      "outputs": [
        {
          "output_type": "display_data",
          "data": {
            "text/plain": [
              "<Figure size 640x480 with 1 Axes>"
            ],
            "image/png": "[encoded data removed]"
          },
          "metadata": {}
        }
      ]
    },
    {
      "cell_type": "code",
      "source": [
        "import basedosdados as bd\n",
        "\n",
        "# Para carregar o dado direto no pandas\n",
        "df = bd.read_table(dataset_id='br_ibge_pof',\n",
        "table_id='aluguel_estimado_2017',\n",
        "billing_project_id=\"<YOUR_PROJECT_ID>\")"
      ],
      "metadata": {
        "id": "jf4YVCxY95c5"
      },
      "execution_count": null,
      "outputs": []
    },
    {
      "cell_type": "code",
      "source": [
        "!pip install basedosdados"
      ],
      "metadata": {
        "colab": {
          "base_uri": "https://localhost:8080/",
          "height": 1000
        },
        "id": "49NejyDZ-ElE",
        "outputId": "10077c42-f63f-46b8-d12a-c4eb887887ef"
      },
      "execution_count": null,
      "outputs": [
        {
          "output_type": "stream",
          "name": "stdout",
          "text": [
            "Collecting basedosdados\n",
            "  Downloading basedosdados-1.6.11-py3-none-any.whl (51 kB)\n",
            "\u001b[2K     \u001b[90m━━━━━━━━━━━━━━━━━━━━━━━━━━━━━━━━━━━━━━━━\u001b[0m \u001b[32m51.1/51.1 kB\u001b[0m \u001b[31m1.5 MB/s\u001b[0m eta \u001b[36m0:00:00\u001b[0m\n",
            "\u001b[?25hCollecting Jinja2==3.0.3 (from basedosdados)\n",
            "  Downloading Jinja2-3.0.3-py3-none-any.whl (133 kB)\n",
            "\u001b[2K     \u001b[90m━━━━━━━━━━━━━━━━━━━━━━━━━━━━━━━━━━━━━━━━\u001b[0m \u001b[32m133.6/133.6 kB\u001b[0m \u001b[31m6.8 MB/s\u001b[0m eta \u001b[36m0:00:00\u001b[0m\n",
            "\u001b[?25hCollecting ckanapi==4.6 (from basedosdados)\n",
            "  Downloading ckanapi-4.6.tar.gz (32 kB)\n",
            "  Preparing metadata (setup.py) ... \u001b[?25l\u001b[?25hdone\n",
            "Collecting click==8.0.3 (from basedosdados)\n",
            "  Downloading click-8.0.3-py3-none-any.whl (97 kB)\n",
            "\u001b[2K     \u001b[90m━━━━━━━━━━━━━━━━━━━━━━━━━━━━━━━━━━━━━━━━\u001b[0m \u001b[32m97.5/97.5 kB\u001b[0m \u001b[31m12.4 MB/s\u001b[0m eta \u001b[36m0:00:00\u001b[0m\n",
            "\u001b[?25hCollecting google-cloud-bigquery==2.30.1 (from basedosdados)\n",
            "  Downloading google_cloud_bigquery-2.30.1-py2.py3-none-any.whl (203 kB)\n",
            "\u001b[2K     \u001b[90m━━━━━━━━━━━━━━━━━━━━━━━━━━━━━━━━━━━━━━━━\u001b[0m \u001b[32m204.0/204.0 kB\u001b[0m \u001b[31m21.0 MB/s\u001b[0m eta \u001b[36m0:00:00\u001b[0m\n",
            "\u001b[?25hCollecting google-cloud-bigquery-storage==1.1.0 (from basedosdados)\n",
            "  Downloading google_cloud_bigquery_storage-1.1.0-py2.py3-none-any.whl (135 kB)\n",
            "\u001b[2K     \u001b[90m━━━━━━━━━━━━━━━━━━━━━━━━━━━━━━━━━━━━━━━━\u001b[0m \u001b[32m135.2/135.2 kB\u001b[0m \u001b[31m14.9 MB/s\u001b[0m eta \u001b[36m0:00:00\u001b[0m\n",
            "\u001b[?25hCollecting google-cloud-storage==1.42.3 (from basedosdados)\n",
            "  Downloading google_cloud_storage-1.42.3-py2.py3-none-any.whl (105 kB)\n",
            "\u001b[2K     \u001b[90m━━━━━━━━━━━━━━━━━━━━━━━━━━━━━━━━━━━━━━━━\u001b[0m \u001b[32m106.0/106.0 kB\u001b[0m \u001b[31m12.7 MB/s\u001b[0m eta \u001b[36m0:00:00\u001b[0m\n",
            "\u001b[?25hCollecting importlib-metadata<5.0.0,>=4.11.3 (from basedosdados)\n",
            "  Downloading importlib_metadata-4.13.0-py3-none-any.whl (23 kB)\n",
            "Collecting loguru<0.7.0,>=0.6.0 (from basedosdados)\n",
            "  Downloading loguru-0.6.0-py3-none-any.whl (58 kB)\n",
            "\u001b[2K     \u001b[90m━━━━━━━━━━━━━━━━━━━━━━━━━━━━━━━━━━━━━━━━\u001b[0m \u001b[32m58.3/58.3 kB\u001b[0m \u001b[31m7.2 MB/s\u001b[0m eta \u001b[36m0:00:00\u001b[0m\n",
            "\u001b[?25hRequirement already satisfied: pandas<2.0.0,>=1.3.5 in /usr/local/lib/python3.10/dist-packages (from basedosdados) (1.5.3)\n",
            "Collecting pandas-gbq<0.18.0,>=0.17.4 (from basedosdados)\n",
            "  Downloading pandas_gbq-0.17.9-py2.py3-none-any.whl (25 kB)\n",
            "Collecting pandavro<2.0.0,>=1.6.0 (from basedosdados)\n",
            "  Downloading pandavro-1.8.0-py3-none-any.whl (8.8 kB)\n",
            "Collecting pyaml==20.4.0 (from basedosdados)\n",
            "  Downloading pyaml-20.4.0-py2.py3-none-any.whl (17 kB)\n",
            "Collecting pyarrow==6.0.0 (from basedosdados)\n",
            "  Downloading pyarrow-6.0.0-cp310-cp310-manylinux_2_17_x86_64.manylinux2014_x86_64.whl (25.6 MB)\n",
            "\u001b[2K     \u001b[90m━━━━━━━━━━━━━━━━━━━━━━━━━━━━━━━━━━━━━━━━\u001b[0m \u001b[32m25.6/25.6 MB\u001b[0m \u001b[31m42.1 MB/s\u001b[0m eta \u001b[36m0:00:00\u001b[0m\n",
            "\u001b[?25hCollecting ruamel.yaml==0.17.10 (from basedosdados)\n",
            "  Downloading ruamel.yaml-0.17.10-py3-none-any.whl (108 kB)\n",
            "\u001b[2K     \u001b[90m━━━━━━━━━━━━━━━━━━━━━━━━━━━━━━━━━━━━━━━━\u001b[0m \u001b[32m108.4/108.4 kB\u001b[0m \u001b[31m12.5 MB/s\u001b[0m eta \u001b[36m0:00:00\u001b[0m\n",
            "\u001b[?25hCollecting shapely<2.0.0,>=1.6.0 (from basedosdados)\n",
            "  Downloading Shapely-1.8.5.post1-cp310-cp310-manylinux_2_12_x86_64.manylinux2010_x86_64.whl (2.0 MB)\n",
            "\u001b[2K     \u001b[90m━━━━━━━━━━━━━━━━━━━━━━━━━━━━━━━━━━━━━━━━\u001b[0m \u001b[32m2.0/2.0 MB\u001b[0m \u001b[31m67.7 MB/s\u001b[0m eta \u001b[36m0:00:00\u001b[0m\n",
            "\u001b[?25hRequirement already satisfied: toml<0.11.0,>=0.10.2 in /usr/local/lib/python3.10/dist-packages (from basedosdados) (0.10.2)\n",
            "Collecting tomlkit==0.7.0 (from basedosdados)\n",
            "  Downloading tomlkit-0.7.0-py2.py3-none-any.whl (32 kB)\n",
            "Collecting tqdm==4.50.2 (from basedosdados)\n",
            "  Downloading tqdm-4.50.2-py2.py3-none-any.whl (70 kB)\n",
            "\u001b[2K     \u001b[90m━━━━━━━━━━━━━━━━━━━━━━━━━━━━━━━━━━━━━━━━\u001b[0m \u001b[32m70.9/70.9 kB\u001b[0m \u001b[31m9.2 MB/s\u001b[0m eta \u001b[36m0:00:00\u001b[0m\n",
            "\u001b[?25hRequirement already satisfied: setuptools in /usr/local/lib/python3.10/dist-packages (from ckanapi==4.6->basedosdados) (67.7.2)\n",
            "Collecting docopt (from ckanapi==4.6->basedosdados)\n",
            "  Downloading docopt-0.6.2.tar.gz (25 kB)\n",
            "  Preparing metadata (setup.py) ... \u001b[?25l\u001b[?25hdone\n",
            "Requirement already satisfied: requests in /usr/local/lib/python3.10/dist-packages (from ckanapi==4.6->basedosdados) (2.31.0)\n",
            "Requirement already satisfied: python-slugify>=1.0 in /usr/local/lib/python3.10/dist-packages (from ckanapi==4.6->basedosdados) (8.0.4)\n",
            "Requirement already satisfied: six<2.0,>=1.9 in /usr/local/lib/python3.10/dist-packages (from ckanapi==4.6->basedosdados) (1.16.0)\n",
            "Requirement already satisfied: grpcio<2.0dev,>=1.38.1 in /usr/local/lib/python3.10/dist-packages (from google-cloud-bigquery==2.30.1->basedosdados) (1.62.1)\n",
            "Requirement already satisfied: google-api-core[grpc]<3.0.0dev,>=1.29.0 in /usr/local/lib/python3.10/dist-packages (from google-cloud-bigquery==2.30.1->basedosdados) (2.11.1)\n",
            "Requirement already satisfied: proto-plus>=1.10.0 in /usr/local/lib/python3.10/dist-packages (from google-cloud-bigquery==2.30.1->basedosdados) (1.23.0)\n",
            "Requirement already satisfied: google-cloud-core<3.0.0dev,>=1.4.1 in /usr/local/lib/python3.10/dist-packages (from google-cloud-bigquery==2.30.1->basedosdados) (2.3.3)\n",
            "Requirement already satisfied: google-resumable-media<3.0dev,>=0.6.0 in /usr/local/lib/python3.10/dist-packages (from google-cloud-bigquery==2.30.1->basedosdados) (2.7.0)\n",
            "Requirement already satisfied: packaging>=14.3 in /usr/local/lib/python3.10/dist-packages (from google-cloud-bigquery==2.30.1->basedosdados) (24.0)\n",
            "Requirement already satisfied: protobuf>=3.12.0 in /usr/local/lib/python3.10/dist-packages (from google-cloud-bigquery==2.30.1->basedosdados) (3.20.3)\n",
            "Requirement already satisfied: python-dateutil<3.0dev,>=2.7.2 in /usr/local/lib/python3.10/dist-packages (from google-cloud-bigquery==2.30.1->basedosdados) (2.8.2)\n",
            "Collecting google-api-core[grpc]<3.0.0dev,>=1.29.0 (from google-cloud-bigquery==2.30.1->basedosdados)\n",
            "  Downloading google_api_core-1.34.1-py3-none-any.whl (120 kB)\n",
            "\u001b[2K     \u001b[90m━━━━━━━━━━━━━━━━━━━━━━━━━━━━━━━━━━━━━━━━\u001b[0m \u001b[32m120.4/120.4 kB\u001b[0m \u001b[31m16.2 MB/s\u001b[0m eta \u001b[36m0:00:00\u001b[0m\n",
            "\u001b[?25hRequirement already satisfied: google-auth<3.0dev,>=1.25.0 in /usr/local/lib/python3.10/dist-packages (from google-cloud-storage==1.42.3->basedosdados) (2.27.0)\n",
            "Requirement already satisfied: MarkupSafe>=2.0 in /usr/local/lib/python3.10/dist-packages (from Jinja2==3.0.3->basedosdados) (2.1.5)\n",
            "Requirement already satisfied: PyYAML in /usr/local/lib/python3.10/dist-packages (from pyaml==20.4.0->basedosdados) (6.0.1)\n",
            "Requirement already satisfied: numpy>=1.16.6 in /usr/local/lib/python3.10/dist-packages (from pyarrow==6.0.0->basedosdados) (1.25.2)\n",
            "Requirement already satisfied: zipp>=0.5 in /usr/local/lib/python3.10/dist-packages (from importlib-metadata<5.0.0,>=4.11.3->basedosdados) (3.18.1)\n",
            "Requirement already satisfied: pytz>=2020.1 in /usr/local/lib/python3.10/dist-packages (from pandas<2.0.0,>=1.3.5->basedosdados) (2023.4)\n",
            "Requirement already satisfied: db-dtypes<2.0.0,>=0.3.1 in /usr/local/lib/python3.10/dist-packages (from pandas-gbq<0.18.0,>=0.17.4->basedosdados) (1.2.0)\n",
            "Requirement already satisfied: pydata-google-auth in /usr/local/lib/python3.10/dist-packages (from pandas-gbq<0.18.0,>=0.17.4->basedosdados) (1.8.2)\n",
            "Requirement already satisfied: google-auth-oauthlib>=0.0.1 in /usr/local/lib/python3.10/dist-packages (from pandas-gbq<0.18.0,>=0.17.4->basedosdados) (1.2.0)\n",
            "Collecting fastavro<2.0.0,>=1.5.1 (from pandavro<2.0.0,>=1.6.0->basedosdados)\n",
            "  Downloading fastavro-1.9.4-cp310-cp310-manylinux_2_17_x86_64.manylinux2014_x86_64.whl (3.1 MB)\n",
            "\u001b[2K     \u001b[90m━━━━━━━━━━━━━━━━━━━━━━━━━━━━━━━━━━━━━━━━\u001b[0m \u001b[32m3.1/3.1 MB\u001b[0m \u001b[31m77.4 MB/s\u001b[0m eta \u001b[36m0:00:00\u001b[0m\n",
            "\u001b[?25hRequirement already satisfied: googleapis-common-protos<2.0.dev0,>=1.56.2 in /usr/local/lib/python3.10/dist-packages (from google-api-core[grpc]<3.0.0dev,>=1.29.0->google-cloud-bigquery==2.30.1->basedosdados) (1.63.0)\n",
            "Requirement already satisfied: grpcio-status<2.0dev,>=1.33.2 in /usr/local/lib/python3.10/dist-packages (from google-api-core[grpc]<3.0.0dev,>=1.29.0->google-cloud-bigquery==2.30.1->basedosdados) (1.48.2)\n",
            "Requirement already satisfied: cachetools<6.0,>=2.0.0 in /usr/local/lib/python3.10/dist-packages (from google-auth<3.0dev,>=1.25.0->google-cloud-storage==1.42.3->basedosdados) (5.3.3)\n",
            "Requirement already satisfied: pyasn1-modules>=0.2.1 in /usr/local/lib/python3.10/dist-packages (from google-auth<3.0dev,>=1.25.0->google-cloud-storage==1.42.3->basedosdados) (0.4.0)\n",
            "Requirement already satisfied: rsa<5,>=3.1.4 in /usr/local/lib/python3.10/dist-packages (from google-auth<3.0dev,>=1.25.0->google-cloud-storage==1.42.3->basedosdados) (4.9)\n",
            "Requirement already satisfied: requests-oauthlib>=0.7.0 in /usr/local/lib/python3.10/dist-packages (from google-auth-oauthlib>=0.0.1->pandas-gbq<0.18.0,>=0.17.4->basedosdados) (1.4.1)\n",
            "Requirement already satisfied: google-crc32c<2.0dev,>=1.0 in /usr/local/lib/python3.10/dist-packages (from google-resumable-media<3.0dev,>=0.6.0->google-cloud-bigquery==2.30.1->basedosdados) (1.5.0)\n",
            "Requirement already satisfied: text-unidecode>=1.3 in /usr/local/lib/python3.10/dist-packages (from python-slugify>=1.0->ckanapi==4.6->basedosdados) (1.3)\n",
            "Requirement already satisfied: charset-normalizer<4,>=2 in /usr/local/lib/python3.10/dist-packages (from requests->ckanapi==4.6->basedosdados) (3.3.2)\n",
            "Requirement already satisfied: idna<4,>=2.5 in /usr/local/lib/python3.10/dist-packages (from requests->ckanapi==4.6->basedosdados) (3.6)\n",
            "Requirement already satisfied: urllib3<3,>=1.21.1 in /usr/local/lib/python3.10/dist-packages (from requests->ckanapi==4.6->basedosdados) (2.0.7)\n",
            "Requirement already satisfied: certifi>=2017.4.17 in /usr/local/lib/python3.10/dist-packages (from requests->ckanapi==4.6->basedosdados) (2024.2.2)\n",
            "Requirement already satisfied: pyasn1<0.7.0,>=0.4.6 in /usr/local/lib/python3.10/dist-packages (from pyasn1-modules>=0.2.1->google-auth<3.0dev,>=1.25.0->google-cloud-storage==1.42.3->basedosdados) (0.6.0)\n",
            "Requirement already satisfied: oauthlib>=3.0.0 in /usr/local/lib/python3.10/dist-packages (from requests-oauthlib>=0.7.0->google-auth-oauthlib>=0.0.1->pandas-gbq<0.18.0,>=0.17.4->basedosdados) (3.2.2)\n",
            "Building wheels for collected packages: ckanapi, docopt\n",
            "  Building wheel for ckanapi (setup.py) ... \u001b[?25l\u001b[?25hdone\n",
            "  Created wheel for ckanapi: filename=ckanapi-4.6-py3-none-any.whl size=40678 sha256=e5435310e93583a33b526dc0c8f2ab3ba2dbfc4a0e18f16e280bd3d0f4ba8387\n",
            "  Stored in directory: /root/.cache/pip/wheels/64/30/93/f9c2ebf4e93dc7b6abd5e376cdee291a6541ee504ac6ec4062\n",
            "  Building wheel for docopt (setup.py) ... \u001b[?25l\u001b[?25hdone\n",
            "  Created wheel for docopt: filename=docopt-0.6.2-py2.py3-none-any.whl size=13706 sha256=539f8fa05ecdcc86c83193359ec24bcbcfaa7cdf68999d5adb3ce9717cc93df8\n",
            "  Stored in directory: /root/.cache/pip/wheels/fc/ab/d4/5da2067ac95b36618c629a5f93f809425700506f72c9732fac\n",
            "Successfully built ckanapi docopt\n",
            "Installing collected packages: docopt, tqdm, tomlkit, shapely, ruamel.yaml, pyarrow, pyaml, loguru, Jinja2, importlib-metadata, fastavro, click, ckanapi, pandavro, google-api-core, google-cloud-storage, google-cloud-bigquery-storage, google-cloud-bigquery, pandas-gbq, basedosdados\n",
            "  Attempting uninstall: tqdm\n",
            "    Found existing installation: tqdm 4.66.2\n",
            "    Uninstalling tqdm-4.66.2:\n",
            "      Successfully uninstalled tqdm-4.66.2\n",
            "  Attempting uninstall: shapely\n",
            "    Found existing installation: shapely 2.0.3\n",
            "    Uninstalling shapely-2.0.3:\n",
            "      Successfully uninstalled shapely-2.0.3\n",
            "  Attempting uninstall: pyarrow\n",
            "    Found existing installation: pyarrow 14.0.2\n",
            "    Uninstalling pyarrow-14.0.2:\n",
            "      Successfully uninstalled pyarrow-14.0.2\n",
            "  Attempting uninstall: Jinja2\n",
            "    Found existing installation: Jinja2 3.1.3\n",
            "    Uninstalling Jinja2-3.1.3:\n",
            "      Successfully uninstalled Jinja2-3.1.3\n",
            "  Attempting uninstall: importlib-metadata\n",
            "    Found existing installation: importlib_metadata 7.1.0\n",
            "    Uninstalling importlib_metadata-7.1.0:\n",
            "      Successfully uninstalled importlib_metadata-7.1.0\n",
            "  Attempting uninstall: click\n",
            "    Found existing installation: click 8.1.7\n",
            "    Uninstalling click-8.1.7:\n",
            "      Successfully uninstalled click-8.1.7\n",
            "  Attempting uninstall: google-api-core\n",
            "    Found existing installation: google-api-core 2.11.1\n",
            "    Uninstalling google-api-core-2.11.1:\n",
            "      Successfully uninstalled google-api-core-2.11.1\n",
            "  Attempting uninstall: google-cloud-storage\n",
            "    Found existing installation: google-cloud-storage 2.8.0\n",
            "    Uninstalling google-cloud-storage-2.8.0:\n",
            "      Successfully uninstalled google-cloud-storage-2.8.0\n",
            "  Attempting uninstall: google-cloud-bigquery-storage\n",
            "    Found existing installation: google-cloud-bigquery-storage 2.24.0\n",
            "    Uninstalling google-cloud-bigquery-storage-2.24.0:\n",
            "      Successfully uninstalled google-cloud-bigquery-storage-2.24.0\n",
            "  Attempting uninstall: google-cloud-bigquery\n",
            "    Found existing installation: google-cloud-bigquery 3.12.0\n",
            "    Uninstalling google-cloud-bigquery-3.12.0:\n",
            "      Successfully uninstalled google-cloud-bigquery-3.12.0\n",
            "  Attempting uninstall: pandas-gbq\n",
            "    Found existing installation: pandas-gbq 0.19.2\n",
            "    Uninstalling pandas-gbq-0.19.2:\n",
            "      Successfully uninstalled pandas-gbq-0.19.2\n",
            "\u001b[31mERROR: pip's dependency resolver does not currently take into account all the packages that are installed. This behaviour is the source of the following dependency conflicts.\n",
            "torch 2.2.1+cu121 requires nvidia-cublas-cu12==12.1.3.1; platform_system == \"Linux\" and platform_machine == \"x86_64\", which is not installed.\n",
            "torch 2.2.1+cu121 requires nvidia-cuda-cupti-cu12==12.1.105; platform_system == \"Linux\" and platform_machine == \"x86_64\", which is not installed.\n",
            "torch 2.2.1+cu121 requires nvidia-cuda-nvrtc-cu12==12.1.105; platform_system == \"Linux\" and platform_machine == \"x86_64\", which is not installed.\n",
            "torch 2.2.1+cu121 requires nvidia-cuda-runtime-cu12==12.1.105; platform_system == \"Linux\" and platform_machine == \"x86_64\", which is not installed.\n",
            "torch 2.2.1+cu121 requires nvidia-cudnn-cu12==8.9.2.26; platform_system == \"Linux\" and platform_machine == \"x86_64\", which is not installed.\n",
            "torch 2.2.1+cu121 requires nvidia-cufft-cu12==11.0.2.54; platform_system == \"Linux\" and platform_machine == \"x86_64\", which is not installed.\n",
            "torch 2.2.1+cu121 requires nvidia-curand-cu12==10.3.2.106; platform_system == \"Linux\" and platform_machine == \"x86_64\", which is not installed.\n",
            "torch 2.2.1+cu121 requires nvidia-cusolver-cu12==11.4.5.107; platform_system == \"Linux\" and platform_machine == \"x86_64\", which is not installed.\n",
            "torch 2.2.1+cu121 requires nvidia-cusparse-cu12==12.1.0.106; platform_system == \"Linux\" and platform_machine == \"x86_64\", which is not installed.\n",
            "torch 2.2.1+cu121 requires nvidia-nccl-cu12==2.19.3; platform_system == \"Linux\" and platform_machine == \"x86_64\", which is not installed.\n",
            "torch 2.2.1+cu121 requires nvidia-nvtx-cu12==12.1.105; platform_system == \"Linux\" and platform_machine == \"x86_64\", which is not installed.\n",
            "bigframes 1.0.0 requires google-cloud-bigquery[bqstorage,pandas]>=3.10.0, but you have google-cloud-bigquery 2.30.1 which is incompatible.\n",
            "bigframes 1.0.0 requires google-cloud-storage>=2.0.0, but you have google-cloud-storage 1.42.3 which is incompatible.\u001b[0m\u001b[31m\n",
            "\u001b[0mSuccessfully installed Jinja2-3.0.3 basedosdados-1.6.11 ckanapi-4.6 click-8.0.3 docopt-0.6.2 fastavro-1.9.4 google-api-core-1.34.1 google-cloud-bigquery-2.30.1 google-cloud-bigquery-storage-1.1.0 google-cloud-storage-1.42.3 importlib-metadata-4.13.0 loguru-0.6.0 pandas-gbq-0.17.9 pandavro-1.8.0 pyaml-20.4.0 pyarrow-6.0.0 ruamel.yaml-0.17.10 shapely-1.8.5.post1 tomlkit-0.7.0 tqdm-4.50.2\n"
          ]
        },
        {
          "output_type": "display_data",
          "data": {
            "application/vnd.colab-display-data+json": {
              "pip_warning": {
                "packages": [
                  "google"
                ]
              },
              "id": "ab3af7f3b847432ab48ec917bb7a4d8c"
            }
          },
          "metadata": {}
        }
      ]
    },
    {
      "cell_type": "markdown",
      "source": [
        "A partir da análise gráfica, é possível perceber que, aumentando os valores de $alpha$, $n$ e $H1$, observamos um aumento no valor do poder do teste, entretanto, essa váriação não de dá de forma semelhante, sendo mais sensível a $H1$, porém menos abrupta quando variamos $alpha$."
      ],
      "metadata": {
        "id": "Ya_0nq3BEFwe"
      }
    }
  ]
}